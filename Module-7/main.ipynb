#Mohymin Islam
#Soutther New Hampshire University
#CS-340
#This code is assigned to visualize dashboard date from animal_shelter mongodb

from jupyter_plotly_dash import JupyterDash
import dash
import dash_auth
import dash_leaflet as dl
import plotly.express as px
from dash import dcc
from dash import html
from dash import dash_table as dt
from dash.dependencies import Input, Output
import pandas as pd
import parameter


#this does imoport animal_shelter file as m
import animal_shelter as m
p1=m.AnimalShelter() #call Animal Shelter Class for later use function.

#Call dashboard app
app = dash.Dash()

#call data to read all data
data = p1.read_All()
#will show up data column by coulmn header.
df = pd.DataFrame.from_records(data, columns=[ 'id','age_upon_outcome', 'animal_id', 'animal_type', 'breed', 'color',
                                              'date_of_birth', 'datetime', 'monthyear', 'name', 'outcome_subtype',
                                              'outcome_type', 'sex_upon_outcome', 'location_lat', 'location_long',
                                              'age_upon_outcome_in_weeks'])


#Dash borad view
app.layout = html.Div([
    html.Div(id='hidden-div', style={'display': 'none'}),
    html.Center(html.B(html.H1('Southern New Hampshire University'))),
    html.Center(html.P(html.P('Mohymin Islam'))),
    html.Center(html.P(html.P('CS-340'))),
    html.Center(html.P(html.P('Date: 06-10-2022'))),

    html.Div(

        # FIXME Add in code for the interactive filtering options. For example, Radio buttons, drop down, checkboxes, etc.
        className='row',
        style={'display': 'flex'},
        children=[
            html.Button(id='button-one', n_clicks=0, children='Water Rescue'),
            html.Button(id='button-two', n_clicks=0, children='Mountain or Wilderness Rescue'),
            html.Button(id='button-three', n_clicks=0, children='Disaster Rescue or Individual Tracking'),
            html.Button(id='button-four', n_clicks=0, children='reset')
        ]

    ),



    dt.DataTable(
        id='datatable-id',
        columns=[
            {"name": i, "id": i, "deletable": False, "selectable": True} for i in df.columns
        ],
        data=df.to_dict('records'),
        # Set up the features for your interactive data table to make it user-friendly for your client
        #will show up interective page for clients.
        editable=False,
        filter_action="native",
        sort_action="native",
        sort_mode="multi",
        column_selectable=False,
        row_deletable=False,
        selected_columns=[],
        selected_rows=[],
        page_action="native",
        page_current=0,
        page_size=10,
    ),
    html.Br(),
    html.Hr(),
    # Geological data to show up
    html.Div(className='row',
             style={'display': 'flex'},
             children=[
                 html.Div(
                     id='graph-id',
                     className='col s12 m6',
                 ),
                 html.Div(
                     id='map-id',
                     className='col s12 m6',
                 )
             ])
])

##
#Dash borad view
app.layout = html.Div([
    html.Div(id='hidden-div', style={'display': 'none'}),
    html.Center(html.B(html.H1('Southern New Hampshire University'))),
    html.Center(html.P(html.P('Mohymin Islam'))),
    html.Center(html.P(html.P('CS-340'))),
    html.Center(html.P(html.P('Date: 06-10-2022'))),

    html.Div(

        # FIXME Add in code for the interactive filtering options. For example, Radio buttons, drop down, checkboxes, etc.
        className='row',
        style={'display': 'flex'},
        children=[
            html.Button(id='button-one', n_clicks=0, children='Water Rescue'),
            html.Button(id='button-two', n_clicks=0, children='Mountain or Wilderness Rescue'),
            html.Button(id='button-three', n_clicks=0, children='Disaster Rescue or Individual Tracking'),
            html.Button(id='button-four', n_clicks=0, children='reset')
        ]

    ),



    dt.DataTable(
        id='datatable-id',
        columns=[
            {"name": i, "id": i, "deletable": False, "selectable": True} for i in df.columns
        ],
        data=df.to_dict('records'),
        # Set up the features for your interactive data table to make it user-friendly for your client
        #will show up interective page for clients.
        editable=False,
        filter_action="native",
        sort_action="native",
        sort_mode="multi",
        column_selectable=False,
        row_deletable=False,
        selected_columns=[],
        selected_rows=[],
        page_action="native",
        page_current=0,
        page_size=10,
    ),
    html.Br(),
    html.Hr(),
    # Geological data to show up
    html.Div(className='row',
             style={'display': 'flex'},
             children=[
                 html.Div(
                     id='graph-id',
                     className='col s12 m6',
                 ),
                 html.Div(
                     id='map-id',
                     className='col s12 m6',
                 )
             ])
])


###
@app.callback([Output('datatable-id', 'data')],
              [Input('button-one', 'n_clicks'), Input('button-two', 'n_clicks'),
               Input('button-three', 'n_clicks'), Input('button-four', 'n_clicks')])
def update_dashboard(button1, button2, button3, button4):
    ### FIX ME Add code to filter interactive data table with MongoDB queries

    if (int(button1) >= 1):
        df = pd.Dataframe.from_records(p1.read(parameter.water))
        button2, button3, bt4 = 0

    elif (int(button2) >= 1):
        df = pd.Dataframe.from_records(p1.read(parameter.mountain))
        button1, button3, bt4 = 0

    elif (int(button3) >= 1):
        df = pd.Dataframe.from_records(p1.read(parameter.disaster))
        bt1, button2, bt4 = 0

    elif (int(button4) >= 1):
        df = pd.Dataframe.from_records(p1.read_All())
        bt1, button2, button3 = 0

    columns = [{"name": i, "id": i, "deletable": False, "selectable": True} for i in df.columns]
    data = df.to_dict('records')

    return data


#Graph
@app.callback(
    Output('graph-id', "children"),
    [Input('datatable-id', "derived_viewport_data")])
def update_graphs(view_data):
    # add code for chart of your choice (e.g. pie chart) #
    dff = pd.DataFrame.from_dict(view_data)
    breeds = []
    for i in range(0, dff.__len__() - 1):
        breeds.append(str(dff.iloc[i, 4]))
    return [
        dcc.Graph(
            figure={
                'data': [
                    {
                        'labels': breeds,
                        'type': 'pie'
                    }
                ],
                'layout': {
                    'title': 'Pie-Chart',
                }
            }
        )
    ]









# Map
@app.callback(
    Output('map-id', "children"),
    [Input('datatable-id', "derived_viewport_data")])
def update_map(view_data):
    if view_data is None:
        return []
    else:
        # Add in the code for your geolocation chart
        dff = pd.DataFrame.from_dict(view_data)
        # Austin TX is at [30.75,-97.48]
        return [
            dl.Map(style={'width': '1000px', 'height': '500px'}, center=[dff.iloc[0, 13], dff.iloc[0, 14]], zoom=10,
                   children=[
                       dl.TileLayer(id="base-layer-id"),
                       # Marker with tool tip and popup
                       dl.Marker(position=[dff.iloc[0, 13], dff.iloc[0, 14]], children=[
                           dl.Tooltip(dff.iloc[0, 4]),
                           dl.Popup([
                               html.H1(dff.iloc[0, 9]),
                               html.P(dff.iloc[0, 8])
                           ])
                       ])
                   ])
        ]

#call the run app
if __name__ == '__main__':
    app.run_server()
